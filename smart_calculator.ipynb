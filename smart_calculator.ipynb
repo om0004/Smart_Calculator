{
 "cells": [
  {
   "cell_type": "code",
   "execution_count": 8,
   "metadata": {},
   "outputs": [
    {
     "name": "stdout",
     "output_type": "stream",
     "text": [
      "Enter some text:hi\n",
      "hi I am a smart calculator please ask your questions!\n",
      "Enter some text:what all can u do?\n",
      "I can add,multiply,subtract and divide numbers!\n",
      "Enter some text:ok what is 3 into 4\n",
      "12.0\n",
      "Enter some text:37 - 12\n",
      "25.0\n",
      "Enter some text:add 5 7 12 25\n",
      "49.0\n",
      "Enter some text:can u tell me your use again?\n",
      "I can add,multiply,subtract and divide numbers!\n",
      "Enter some text:okk bye\n"
     ]
    },
    {
     "ename": "SystemExit",
     "evalue": "Good Night",
     "output_type": "error",
     "traceback": [
      "An exception has occurred, use %tb to see the full traceback.\n",
      "\u001b[1;31mSystemExit\u001b[0m\u001b[1;31m:\u001b[0m Good Night\n"
     ]
    }
   ],
   "source": [
    "def addition():\n",
    "    sum=0\n",
    "    for i in number:\n",
    "        sum=sum+float(i)\n",
    "    number.clear()    \n",
    "    return sum \n",
    "def subtraction():\n",
    "    diff=0\n",
    "    diff=float(number[0])-float(number[1])\n",
    "    number.clear() \n",
    "    return diff\n",
    "def multiplication():\n",
    "    mul=1\n",
    "    for i in number:\n",
    "        mul=mul*float(i)\n",
    "    number.clear()     \n",
    "    return mul\n",
    "def division():\n",
    "    div=float(number[0])/float(number[1])\n",
    "    number.clear() \n",
    "    return div\n",
    "def greet():\n",
    "    return \"hi I am a smart calculator please ask your questions!\"\n",
    "def use():\n",
    "    return \"I can add,multiply,subtract and divide numbers!\"\n",
    "def stop():\n",
    "    import sys\n",
    "    sys.exit(\"Good Night\")\n",
    "result=-999\n",
    "number=[]\n",
    "response1=['add','sum','plus','addition','+']\n",
    "response2=['minus','subtract','subtraction','-','difference']\n",
    "response3=['multiply','multiplication','into','*']\n",
    "response4=['divide','division','/']\n",
    "response5=['hi','morning','hey']\n",
    "response6=['use','usage','all']\n",
    "response7=['bye','night','stop']\n",
    "while(True):\n",
    "    question=input(\"Enter some text:\")\n",
    "    for word in question.split(' '):\n",
    "        if word.isdigit():\n",
    "            number.append(word)\n",
    "    for word in question.split(' '):\n",
    "        if word in response5:\n",
    "            result=greet()\n",
    "        elif word in response6:\n",
    "            result=use()\n",
    "        elif word in response1:\n",
    "            result=addition()\n",
    "        elif word in response2:\n",
    "            result=subtraction()\n",
    "        elif word in response3:\n",
    "            result=multiplication()\n",
    "        elif word in response4:\n",
    "            result=division()\n",
    "        elif word in response7:\n",
    "            result=stop()    \n",
    "    if result!=-999:        \n",
    "        print(result)\n",
    "    else:\n",
    "        print(\"Invalid response!!\")\n",
    "    \n"
   ]
  },
  {
   "cell_type": "code",
   "execution_count": null,
   "metadata": {},
   "outputs": [],
   "source": []
  },
  {
   "cell_type": "code",
   "execution_count": null,
   "metadata": {},
   "outputs": [],
   "source": []
  }
 ],
 "metadata": {
  "kernelspec": {
   "display_name": "Python 3",
   "language": "python",
   "name": "python3"
  },
  "language_info": {
   "codemirror_mode": {
    "name": "ipython",
    "version": 3
   },
   "file_extension": ".py",
   "mimetype": "text/x-python",
   "name": "python",
   "nbconvert_exporter": "python",
   "pygments_lexer": "ipython3",
   "version": "3.9.0"
  }
 },
 "nbformat": 4,
 "nbformat_minor": 4
}
